{
 "cells": [
  {
   "cell_type": "markdown",
   "metadata": {},
   "source": [
    "### This guide will show how to host a hugging face LLM in Union serverless actors environment. \n",
    "\n",
    "<a target=\"_blank\" href=\"https://colab.research.google.com/github/unionai-oss/phi3-on-union-actors/blob/main/tutorial.ipynb\">\n",
    "  <img src=\"https://colab.research.google.com/assets/colab-badge.svg\" alt=\"Open In Colab\"/>\n",
    "</a>\n",
    "\n",
    "Sign up for Union serveless (free):\n",
    "https://www.union.ai/\n",
    "\n",
    "It can take upto 5 minutes to get your on boarded email. If you do not get approved reach out on the Flyte community Slack. \n",
    "\n",
    "Once you get your confirmation email you should be able to verify access at visiting serverless.union.ai\n",
    "\n",
    "See the full repo here: https://github.com/unionai-oss/phi3-on-union-actors"
   ]
  },
  {
   "cell_type": "code",
   "execution_count": null,
   "metadata": {},
   "outputs": [],
   "source": [
    "# install the requirements if you haven't already\n",
    "try:\n",
    "    import google.colab\n",
    "    IN_COLAB = True\n",
    "except ImportError:\n",
    "    IN_COLAB = False\n",
    "\n",
    "if IN_COLAB:\n",
    "    !git clone https://github.com/unionai-oss/phi3-on-union-actors\n",
    "    !pip install -r requirements.txt\n",
    "\n"
   ]
  },
  {
   "cell_type": "markdown",
   "metadata": {},
   "source": [
    "Autheticate this device with your Union account."
   ]
  },
  {
   "cell_type": "code",
   "execution_count": null,
   "metadata": {},
   "outputs": [],
   "source": [
    "!union create login --serverless --auth device-flow"
   ]
  },
  {
   "cell_type": "markdown",
   "metadata": {},
   "source": [
    "Lets run a workflow that uses the phi3 instruct LLM model from Hugging Face to generate text.\n",
    "\n",
    "See the code we're running in [asks/phi3.py](tasks/phi3.py) and the workflow in [workflows/phi3_workflow.py](workflows/phi3_response_wf.py)\n",
    "\n",
    "If first time runninng this workflow the container image will have to build which may take a few mins. And the first time an actor workflow is run it will spin up a container taking a few minutes as well. Once it's up you'll be able to call it until time-to-life occurs.\n",
    "\n",
    "When workflow is running you'll get a generated link to view it's progress in the Union UI.\n",
    "\n"
   ]
  },
  {
   "cell_type": "code",
   "execution_count": null,
   "metadata": {
    "vscode": {
     "languageId": "plaintext"
    }
   },
   "outputs": [],
   "source": [
    "union run --remote workflows/phi3_response_wf.py phi_text_gen_workflow --query=\"what is a fish?\""
   ]
  },
  {
   "cell_type": "markdown",
   "metadata": {},
   "source": [
    "Lets call our LLM model to generate text with the Union remote API. \n",
    "\n",
    "This allows us to run the workflow from other applications or scripts."
   ]
  },
  {
   "cell_type": "code",
   "execution_count": null,
   "metadata": {},
   "outputs": [],
   "source": [
    "from union.remote import UnionRemote\n",
    "# Create a remote connection\n",
    "remote = UnionRemote()"
   ]
  },
  {
   "cell_type": "code",
   "execution_count": null,
   "metadata": {},
   "outputs": [],
   "source": [
    "def predict_with_actor(query):\n",
    "\n",
    "    inputs = {\"query\": query,}\n",
    "\n",
    "    workflow = remote.fetch_workflow(name=\"jupyterworkflow.phi_text_gen_workflow\")\n",
    "    execution = remote.execute(workflow, inputs=inputs, wait=True)\n",
    "\n",
    "    print(execution.outputs['o0'])\n",
    "    return execution.outputs['o0']"
   ]
  },
  {
   "cell_type": "code",
   "execution_count": null,
   "metadata": {},
   "outputs": [],
   "source": [
    "print(predict_with_actor(\"What is a bee?\"))"
   ]
  },
  {
   "cell_type": "code",
   "execution_count": null,
   "metadata": {},
   "outputs": [],
   "source": [
    "print(predict_with_actor(\"What is a fly?\"))"
   ]
  },
  {
   "cell_type": "code",
   "execution_count": null,
   "metadata": {},
   "outputs": [],
   "source": [
    "print(predict_with_actor(\"What is a ant?\"))"
   ]
  },
  {
   "cell_type": "markdown",
   "metadata": {},
   "source": [
    "Lets see what looks like in a simple gradio app. "
   ]
  },
  {
   "cell_type": "code",
   "execution_count": null,
   "metadata": {},
   "outputs": [],
   "source": []
  },
  {
   "cell_type": "code",
   "execution_count": null,
   "metadata": {},
   "outputs": [],
   "source": []
  },
  {
   "cell_type": "markdown",
   "metadata": {},
   "source": [
    "If you want to host the gradio app on Hugging Face Spaces you can create union API key:\n",
    "\n"
   ]
  },
  {
   "cell_type": "markdown",
   "metadata": {},
   "source": []
  }
 ],
 "metadata": {
  "language_info": {
   "name": "python"
  }
 },
 "nbformat": 4,
 "nbformat_minor": 2
}
