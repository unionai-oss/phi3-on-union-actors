{
 "cells": [
  {
   "cell_type": "markdown",
   "metadata": {},
   "source": [
    "### This guide will show how to host a hugging face LLM in Union serverless actors environment. \n",
    "\n",
    "<a target=\"_blank\" href=\"https://colab.research.google.com/github/unionai-oss/phi3-on-union-actors/blob/main/tutorial.ipynb\">\n",
    "  <img src=\"https://colab.research.google.com/assets/colab-badge.svg\" alt=\"Open In Colab\"/>\n",
    "</a>\n",
    "\n",
    "Sign up for Union serveless (free):\n",
    "https://www.union.ai/\n",
    "\n",
    "It can take upto 5 minutes to get your on boarded email. If you do not get approved reach out on the Flyte community Slack. \n",
    "\n",
    "Once you get your confirmation email you should be able to verify access at visiting serverless.union.ai\n",
    "\n",
    "See the full repo here: https://github.com/unionai-oss/phi3-on-union-actors"
   ]
  },
  {
   "cell_type": "code",
   "execution_count": null,
   "metadata": {},
   "outputs": [],
   "source": [
    "\n",
    "# install the requirements if you haven't already\n",
    "try:\n",
    "    import google.colab\n",
    "    IN_COLAB = True\n",
    "except ImportError:\n",
    "    IN_COLAB = False\n",
    "\n",
    "if IN_COLAB:\n",
    "    !git clone https://github.com/unionai-oss/phi3-on-union-actors\n",
    "    %cd phi3-on-union-actors\n",
    "    !pip install -r requirements.txt"
   ]
  },
  {
   "cell_type": "markdown",
   "metadata": {},
   "source": [
    "Autheticate this device with your Union account."
   ]
  },
  {
   "cell_type": "code",
   "execution_count": 43,
   "metadata": {},
   "outputs": [
    {
     "name": "stdout",
     "output_type": "stream",
     "text": [
      "Login successful into serverless\n",
      "WARNING: All log messages before absl::InitializeLog() is called are written to STDERR\n",
      "E0000 00:00:1737438678.506589 20511732 init.cc:232] grpc_wait_for_shutdown_with_timeout() timed out.\n"
     ]
    }
   ],
   "source": [
    "!union create login --serverless --auth device-flow"
   ]
  },
  {
   "cell_type": "markdown",
   "metadata": {},
   "source": [
    "Lets run a workflow that uses the phi3 instruct LLM model from Hugging Face to generate text.\n",
    "\n",
    "See the code we're running in [asks/phi3.py](tasks/phi3.py) and the workflow in [workflows/phi3_workflow.py](workflows/phi3_response_wf.py)\n",
    "\n",
    "If first time runninng this workflow the container image will have to build which may take a few mins. And the first time an actor workflow is run it will spin up a container taking a few minutes as well. Once it's up you'll be able to call it until time-to-life occurs.\n",
    "\n",
    "When workflow is running you'll get a generated link to view it's progress in the Union UI.\n",
    "\n"
   ]
  },
  {
   "cell_type": "code",
   "execution_count": 44,
   "metadata": {},
   "outputs": [
    {
     "name": "stdout",
     "output_type": "stream",
     "text": [
      "\u001b[2mRunning pyflyte register from /Users/sageelliott/Documents/gitrepos/ph3-actor-host with images ImageConfig(default_image=Image(name='default', fqn='cr.union.ai/v1/unionai/union', tag='py3.11-0.1.126', digest=None), images=[Image(name='default', fqn='cr.union.ai/v1/unionai/union', tag='py3.11-0.1.126', digest=None)]) and image destination folder /root on 1 package(s) ('/Users/sageelliott/Documents/gitrepos/ph3-actor-host/workflows/model_infernce.py',)\u001b[0m\n",
      "Registering against serverless-1.us-east-2.s.union.ai\u001b[0m\n",
      "\u001b[33mDetected Root /Users/sageelliott/Documents/gitrepos/ph3-actor-host, using this to create deployable package...\u001b[0m\n",
      "\u001b[33mLoading packages ['workflows.model_infernce'] under source root /Users/sageelliott/Documents/gitrepos/ph3-actor-host\u001b[0m\n",
      "\u001b[33mNo output path provided, using a temporary directory at /var/folders/nv/hcrpygqd6xvd6m2cf6w3pbvc0000gn/T/tmp3h2_v5v0 instead\u001b[0m\n",
      "\u001b[33mComputed version is W-ZIZ-bXvcWpe3UGHZ7rDw\u001b[0m\n",
      "\u001b[34mImage flytekit:eDQ2zfTtVA_KgQ4i66OIIA found. Skip building.\u001b[0m\n",
      "\u001b[32mSerializing and registering 4 flyte entities\u001b[0m\n",
      "\u001b[1;32m[\u001b[0m\u001b[32m✔\u001b[0m\u001b[1;32m]\u001b[0m\u001b[32m Task: \u001b[0m\u001b]8;id=2616;https://serverless.union.ai/org/sagecodes/projects/default/domains/development/task/tasks.hf_model.download_model/version/W-ZIZ-bXvcWpe3UGHZ7rDw\u001b\\\u001b[4;36mtasks.hf_model.download_model\u001b[0m\u001b]8;;\u001b\\\n",
      "\u001b[1;32m[\u001b[0m\u001b[32m✔\u001b[0m\u001b[1;32m]\u001b[0m\u001b[32m Task: \u001b[0m\u001b]8;id=391513;https://serverless.union.ai/org/sagecodes/projects/default/domains/development/task/tasks.hf_model.inference/version/W-ZIZ-bXvcWpe3UGHZ7rDw\u001b\\\u001b[4;36mtasks.hf_model.inference\u001b[0m\u001b]8;;\u001b\\\n",
      "\u001b[1;32m[\u001b[0m\u001b[32m✔\u001b[0m\u001b[1;32m]\u001b[0m\u001b[32m Workflow: \u001b[0m\u001b]8;id=866916;https://serverless.union.ai/org/sagecodes/projects/default/domains/development/workflow/workflows.model_infernce.wf_text_gen/version/W-ZIZ-bXvcWpe3UGHZ7rDw\u001b\\\u001b[4;36mworkflows.model_infernce.wf_text_gen\u001b[0m\u001b]8;;\u001b\\\n",
      "\u001b[1;32m[\u001b[0m\u001b[32m✔\u001b[0m\u001b[1;32m]\u001b[0m\u001b[32m Launch Plan: \u001b[0m\u001b]8;id=243078;https://serverless.union.ai/org/sagecodes/projects/default/domains/development/launch_plan/workflows.model_infernce.wf_text_gen/version/W-ZIZ-bXvcWpe3UGHZ7rDw\u001b\\\u001b[4;36mworkflows.model_infernce.wf_text_gen\u001b[0m\u001b]8;;\u001b\\\n",
      "\u001b[32mSuccessfully registered 4 entities\u001b[0m\n",
      "WARNING: All log messages before absl::InitializeLog() is called are written to STDERR\n",
      "E0000 00:00:1737438699.904040 20512682 init.cc:232] grpc_wait_for_shutdown_with_timeout() timed out.\n"
     ]
    }
   ],
   "source": [
    "!union register workflows/model_infernce.py "
   ]
  },
  {
   "cell_type": "markdown",
   "metadata": {},
   "source": [
    "Lets call our LLM model to generate text with the Union remote API. \n",
    "\n",
    "This allows us to run the workflow from other applications or scripts.\n"
   ]
  },
  {
   "cell_type": "code",
   "execution_count": 31,
   "metadata": {},
   "outputs": [
    {
     "data": {
      "text/html": [
       "<pre style=\"white-space:pre;overflow-x:auto;line-height:normal;font-family:Menlo,'DejaVu Sans Mono',consolas,'Courier New',monospace\"><span style=\"color: #7fbfbf; text-decoration-color: #7fbfbf\">13:25:14.979751 </span><span style=\"color: #808000; text-decoration-color: #808000\">WARNING </span> remote.py:<span style=\"color: #008080; text-decoration-color: #008080; font-weight: bold\">286</span> - Jupyter notebook and interactive task  \n",
       "<span style=\"color: #7fbfbf; text-decoration-color: #7fbfbf\">                </span>         support is still alpha.                                \n",
       "</pre>\n"
      ],
      "text/plain": [
       "\u001b[2;36m13:25:14.979751\u001b[0m\u001b[2;36m \u001b[0m\u001b[33mWARNING \u001b[0m remote.py:\u001b[1;36m286\u001b[0m - Jupyter notebook and interactive task  \n",
       "\u001b[2;36m                \u001b[0m         support is still alpha.                                \n"
      ]
     },
     "metadata": {},
     "output_type": "display_data"
    }
   ],
   "source": [
    "from union.remote import UnionRemote\n",
    "# Create a remote connection\n",
    "remote = UnionRemote()"
   ]
  },
  {
   "cell_type": "code",
   "execution_count": 41,
   "metadata": {},
   "outputs": [],
   "source": [
    "def predict_with_actor(query):\n",
    "\n",
    "    inputs = {\"query\": query,}\n",
    "\n",
    "    workflow = remote.fetch_workflow(name=\"workflows.model_infernce.wf_text_gen\")\n",
    "    execution = remote.execute(workflow, inputs=inputs, wait=True) # wait=True will block until the execution is complete\n",
    "\n",
    "    # print(execution.outputs)\n",
    "\n",
    "    return execution.outputs['o0']"
   ]
  },
  {
   "cell_type": "markdown",
   "metadata": {},
   "source": [
    "If you're calling this after the initial TTL expored on your container you'll have to wait for the container to spin up again. You can adjust the TTL for `ActorEnvironment` in the container file [containers.py](containers.py)"
   ]
  },
  {
   "cell_type": "code",
   "execution_count": 42,
   "metadata": {},
   "outputs": [
    {
     "data": {
      "text/html": [
       "<pre style=\"white-space:pre;overflow-x:auto;line-height:normal;font-family:Menlo,'DejaVu Sans Mono',consolas,'Courier New',monospace\"><span style=\"color: #800000; text-decoration-color: #800000\">╭─────────────────────────────────────── </span><span style=\"color: #800000; text-decoration-color: #800000; font-weight: bold\">Traceback </span><span style=\"color: #bf7f7f; text-decoration-color: #bf7f7f; font-weight: bold\">(most recent call last)</span><span style=\"color: #800000; text-decoration-color: #800000\"> ───────────────────────────────────────╮</span>\n",
       "<span style=\"color: #800000; text-decoration-color: #800000\">│</span> in <span style=\"color: #00ff00; text-decoration-color: #00ff00\">&lt;module&gt;</span>:<span style=\"color: #0000ff; text-decoration-color: #0000ff\">1</span>                                                                                                   <span style=\"color: #800000; text-decoration-color: #800000\">│</span>\n",
       "<span style=\"color: #800000; text-decoration-color: #800000\">│</span>                                                                                                                 <span style=\"color: #800000; text-decoration-color: #800000\">│</span>\n",
       "<span style=\"color: #800000; text-decoration-color: #800000\">│</span> <span style=\"color: #800000; text-decoration-color: #800000\">❱ </span>1 <span style=\"color: #00ffff; text-decoration-color: #00ffff\">print</span>(<span style=\"font-weight: bold; text-decoration: underline\">predict_with_actor(</span><span style=\"color: #808000; text-decoration-color: #808000; font-weight: bold; text-decoration: underline\">\"What is a bee?\"</span><span style=\"font-weight: bold; text-decoration: underline\">)</span>)                                                                 <span style=\"color: #800000; text-decoration-color: #800000\">│</span>\n",
       "<span style=\"color: #800000; text-decoration-color: #800000\">│</span>                                                                                                                 <span style=\"color: #800000; text-decoration-color: #800000\">│</span>\n",
       "<span style=\"color: #800000; text-decoration-color: #800000\">│</span> in <span style=\"color: #00ff00; text-decoration-color: #00ff00\">predict_with_actor</span>:<span style=\"color: #0000ff; text-decoration-color: #0000ff\">8</span>                                                                                         <span style=\"color: #800000; text-decoration-color: #800000\">│</span>\n",
       "<span style=\"color: #800000; text-decoration-color: #800000\">│</span>                                                                                                                 <span style=\"color: #800000; text-decoration-color: #800000\">│</span>\n",
       "<span style=\"color: #800000; text-decoration-color: #800000\">│</span> <span style=\"color: #800000; text-decoration-color: #800000\">❱ </span> 8 <span style=\"color: #7f7f7f; text-decoration-color: #7f7f7f\">│   </span><span style=\"color: #00ffff; text-decoration-color: #00ffff\">print</span>(<span style=\"font-weight: bold; text-decoration: underline\">execution.outputs</span>)                                                                               <span style=\"color: #800000; text-decoration-color: #800000\">│</span>\n",
       "<span style=\"color: #800000; text-decoration-color: #800000\">│</span>                                                                                                                 <span style=\"color: #800000; text-decoration-color: #800000\">│</span>\n",
       "<span style=\"color: #800000; text-decoration-color: #800000\">│</span> <span style=\"color: #bfbf7f; text-decoration-color: #bfbf7f\">/Users/sageelliott/.pyenv/versions/weav-rag/lib/python3.11/site-packages/flytekit/remote/</span><span style=\"color: #808000; text-decoration-color: #808000; font-weight: bold\">executions.py</span>:<span style=\"color: #0000ff; text-decoration-color: #0000ff\">154</span> in   <span style=\"color: #800000; text-decoration-color: #800000\">│</span>\n",
       "<span style=\"color: #800000; text-decoration-color: #800000\">│</span> <span style=\"color: #00ff00; text-decoration-color: #00ff00\">outputs</span>                                                                                                         <span style=\"color: #800000; text-decoration-color: #800000\">│</span>\n",
       "<span style=\"color: #800000; text-decoration-color: #800000\">│</span>                                                                                                                 <span style=\"color: #800000; text-decoration-color: #800000\">│</span>\n",
       "<span style=\"color: #800000; text-decoration-color: #800000\">│</span> <span style=\"color: #800000; text-decoration-color: #800000\">❱ </span>154 <span style=\"color: #7f7f7f; text-decoration-color: #7f7f7f\">│   │   </span>outputs = <span style=\"color: #00ffff; text-decoration-color: #00ffff; font-weight: bold; text-decoration: underline\">super</span><span style=\"font-weight: bold; text-decoration: underline\">().outputs</span>                                                                         <span style=\"color: #800000; text-decoration-color: #800000\">│</span>\n",
       "<span style=\"color: #800000; text-decoration-color: #800000\">│</span>                                                                                                                 <span style=\"color: #800000; text-decoration-color: #800000\">│</span>\n",
       "<span style=\"color: #800000; text-decoration-color: #800000\">│</span> <span style=\"color: #bfbf7f; text-decoration-color: #bfbf7f\">/Users/sageelliott/.pyenv/versions/weav-rag/lib/python3.11/site-packages/flytekit/remote/</span><span style=\"color: #808000; text-decoration-color: #808000; font-weight: bold\">executions.py</span>:<span style=\"color: #0000ff; text-decoration-color: #0000ff\">47</span> in    <span style=\"color: #800000; text-decoration-color: #800000\">│</span>\n",
       "<span style=\"color: #800000; text-decoration-color: #800000\">│</span> <span style=\"color: #00ff00; text-decoration-color: #00ff00\">outputs</span>                                                                                                         <span style=\"color: #800000; text-decoration-color: #800000\">│</span>\n",
       "<span style=\"color: #800000; text-decoration-color: #800000\">│</span>                                                                                                                 <span style=\"color: #800000; text-decoration-color: #800000\">│</span>\n",
       "<span style=\"color: #800000; text-decoration-color: #800000\">│</span> <span style=\"color: #800000; text-decoration-color: #800000\">❱ </span> 47 <span style=\"color: #7f7f7f; text-decoration-color: #7f7f7f\">│   │   │   </span><span style=\"color: #0000ff; text-decoration-color: #0000ff\">raise</span> user_exceptions.FlyteAssertion(                                                         <span style=\"color: #800000; text-decoration-color: #800000\">│</span>\n",
       "<span style=\"color: #800000; text-decoration-color: #800000\">╰─────────────────────────────────────────────────────────────────────────────────────────────────────────────────╯</span>\n",
       "<span style=\"color: #ff0000; text-decoration-color: #ff0000; font-weight: bold\">FlyteAssertion: </span>USER:AssertionError: <span style=\"color: #808000; text-decoration-color: #808000\">error</span>=<span style=\"color: #800080; text-decoration-color: #800080\">Outputs</span> could not be found because the execution ended in failure. Error\n",
       "message: Trace:\n",
       "\n",
       "    Traceback <span style=\"font-weight: bold\">(</span>most recent call last<span style=\"font-weight: bold\">)</span>:\n",
       "      File <span style=\"color: #008000; text-decoration-color: #008000\">\"/opt/micromamba/envs/runtime/lib/python3.11/site-packages/union/actor/_actor.py\"</span>, line <span style=\"color: #008080; text-decoration-color: #008080; font-weight: bold\">49</span>, in \n",
       "inner_func\n",
       "        return _ACTOR_STATE_CACHE<span style=\"font-weight: bold\">[</span>key<span style=\"font-weight: bold\">]</span>\n",
       "               ~~~~~~~~~~~~~~~~~~^^^^^\n",
       "    KeyError: <span style=\"font-weight: bold\">[</span><span style=\"color: #008000; text-decoration-color: #008000\">'/root/11821724098795043749'</span>, <span style=\"color: #008000; text-decoration-color: #008000\">'load_model'</span>, <span style=\"color: #008000; text-decoration-color: #008000\">'tasks.hf_model'</span>, <span style=\"color: #008000; text-decoration-color: #008000\">'microsoft/Phi-3-mini-128k-instruct'</span>, \n",
       "<span style=\"color: #008000; text-decoration-color: #008000\">'union:///ci/sagecodes/development/default/a4mcn4lpxvcqsntbbtwz-n0-0/8e2ae3278c3c81091d2b08ab774c183a'</span><span style=\"font-weight: bold\">]</span>\n",
       "\n",
       "    During handling of the above exception, another exception occurred:\n",
       "\n",
       "    Traceback <span style=\"font-weight: bold\">(</span>most recent call last<span style=\"font-weight: bold\">)</span>:\n",
       "      File <span style=\"color: #008000; text-decoration-color: #008000\">\"/opt/micromamba/envs/runtime/lib/python3.11/site-packages/flytekit/core/base_task.py\"</span>, line <span style=\"color: #008080; text-decoration-color: #008080; font-weight: bold\">754</span>, in \n",
       "dispatch_execute\n",
       "        native_outputs = <span style=\"color: #800080; text-decoration-color: #800080; font-weight: bold\">self.execute</span><span style=\"font-weight: bold\">(</span>**native_inputs<span style=\"font-weight: bold\">)</span>\n",
       "                         ^^^^^^^^^^^^^^^^^^^^^^^^^^^^^\n",
       "      File <span style=\"color: #008000; text-decoration-color: #008000\">\"/opt/micromamba/envs/runtime/lib/python3.11/site-packages/flytekit/core/python_function_task.py\"</span>, line \n",
       "<span style=\"color: #008080; text-decoration-color: #008080; font-weight: bold\">204</span>, in execute\n",
       "        return <span style=\"color: #800080; text-decoration-color: #800080; font-weight: bold\">self._task_function</span><span style=\"font-weight: bold\">(</span>**kwargs<span style=\"font-weight: bold\">)</span>\n",
       "               ^^^^^^^^^^^^^^^^^^^^^^^^^^^^^\n",
       "      File <span style=\"color: #008000; text-decoration-color: #008000\">\"/root/11821724098795043749/tasks/hf_model.py\"</span>, line <span style=\"color: #008080; text-decoration-color: #008080; font-weight: bold\">70</span>, in inference\n",
       "        text_gen_pipeline = <span style=\"color: #800080; text-decoration-color: #800080; font-weight: bold\">load_model</span><span style=\"font-weight: bold\">(</span>model_name, model_cache_path<span style=\"font-weight: bold\">)</span>\n",
       "                            ^^^^^^^^^^^^^^^^^^^^^^^^^^^^^^^^^^^^^^^^\n",
       "      File <span style=\"color: #008000; text-decoration-color: #008000\">\"/opt/micromamba/envs/runtime/lib/python3.11/site-packages/union/actor/_actor.py\"</span>, line <span style=\"color: #008080; text-decoration-color: #008080; font-weight: bold\">51</span>, in \n",
       "inner_func\n",
       "        _ACTOR_STATE_CACHE<span style=\"font-weight: bold\">[</span>key<span style=\"font-weight: bold\">]</span> = <span style=\"color: #800080; text-decoration-color: #800080; font-weight: bold\">f</span><span style=\"font-weight: bold\">(</span>*args, **kwargs<span style=\"font-weight: bold\">)</span>\n",
       "                                  ^^^^^^^^^^^^^^^^^^\n",
       "      File <span style=\"color: #008000; text-decoration-color: #008000\">\"/root/11821724098795043749/tasks/hf_model.py\"</span>, line <span style=\"color: #008080; text-decoration-color: #008080; font-weight: bold\">50</span>, in load_model\n",
       "        model = <span style=\"color: #800080; text-decoration-color: #800080; font-weight: bold\">AutoModelForCausalLM.from_pretrained</span><span style=\"font-weight: bold\">(</span>\n",
       "                ^^^^^^^^^^^^^^^^^^^^^^^^^^^^^^^^^^^^^\n",
       "      File <span style=\"color: #008000; text-decoration-color: #008000\">\"/opt/micromamba/envs/runtime/lib/python3.11/site-packages/transformers/models/auto/auto_factory.py\"</span>, \n",
       "line <span style=\"color: #008080; text-decoration-color: #008080; font-weight: bold\">559</span>, in from_pretrained\n",
       "        return <span style=\"color: #800080; text-decoration-color: #800080; font-weight: bold\">model_class.from_pretrained</span><span style=\"font-weight: bold\">(</span>\n",
       "               ^^^^^^^^^^^^^^^^^^^^^^^^^^^^\n",
       "      File <span style=\"color: #008000; text-decoration-color: #008000\">\"/opt/micromamba/envs/runtime/lib/python3.11/site-packages/transformers/modeling_utils.py\"</span>, line <span style=\"color: #008080; text-decoration-color: #008080; font-weight: bold\">4224</span>, \n",
       "in from_pretrained\n",
       "        <span style=\"font-weight: bold\">)</span> = <span style=\"color: #800080; text-decoration-color: #800080; font-weight: bold\">cls._load_pretrained_model</span><span style=\"font-weight: bold\">(</span>\n",
       "            ^^^^^^^^^^^^^^^^^^^^^^^^^^^\n",
       "      File <span style=\"color: #008000; text-decoration-color: #008000\">\"/opt/micromamba/envs/runtime/lib/python3.11/site-packages/transformers/modeling_utils.py\"</span>, line <span style=\"color: #008080; text-decoration-color: #008080; font-weight: bold\">4770</span>, \n",
       "in _load_pretrained_model\n",
       "        state_dict = <span style=\"color: #800080; text-decoration-color: #800080; font-weight: bold\">load_state_dict</span><span style=\"font-weight: bold\">(</span>\n",
       "                     ^^^^^^^^^^^^^^^^\n",
       "      File <span style=\"color: #008000; text-decoration-color: #008000\">\"/opt/micromamba/envs/runtime/lib/python3.11/site-packages/transformers/modeling_utils.py\"</span>, line <span style=\"color: #008080; text-decoration-color: #008080; font-weight: bold\">504</span>, in\n",
       "load_state_dict\n",
       "        with <span style=\"color: #800080; text-decoration-color: #800080; font-weight: bold\">safe_open</span><span style=\"font-weight: bold\">(</span>checkpoint_file, <span style=\"color: #808000; text-decoration-color: #808000\">framework</span>=<span style=\"color: #008000; text-decoration-color: #008000\">\"pt\"</span><span style=\"font-weight: bold\">)</span> as f:\n",
       "             ^^^^^^^^^^^^^^^^^^^^^^^^^^^^^^^^^^^^^^^^^^\n",
       "    safetensors_rust.SafetensorError: Error while deserializing header: HeaderTooLarge\n",
       "\n",
       "Message:\n",
       "\n",
       "    SafetensorError: Error while deserializing header: HeaderTooLarge\n",
       "</pre>\n"
      ],
      "text/plain": [
       "\u001b[31m╭─\u001b[0m\u001b[31m──────────────────────────────────────\u001b[0m\u001b[31m \u001b[0m\u001b[1;31mTraceback \u001b[0m\u001b[1;2;31m(most recent call last)\u001b[0m\u001b[31m \u001b[0m\u001b[31m──────────────────────────────────────\u001b[0m\u001b[31m─╮\u001b[0m\n",
       "\u001b[31m│\u001b[0m in \u001b[92m<module>\u001b[0m:\u001b[94m1\u001b[0m                                                                                                   \u001b[31m│\u001b[0m\n",
       "\u001b[31m│\u001b[0m                                                                                                                 \u001b[31m│\u001b[0m\n",
       "\u001b[31m│\u001b[0m \u001b[31m❱ \u001b[0m1 \u001b[96mprint\u001b[0m(\u001b[1;4mpredict_with_actor(\u001b[0m\u001b[1;4;33m\"\u001b[0m\u001b[1;4;33mWhat is a bee?\u001b[0m\u001b[1;4;33m\"\u001b[0m\u001b[1;4m)\u001b[0m)                                                                 \u001b[31m│\u001b[0m\n",
       "\u001b[31m│\u001b[0m                                                                                                                 \u001b[31m│\u001b[0m\n",
       "\u001b[31m│\u001b[0m in \u001b[92mpredict_with_actor\u001b[0m:\u001b[94m8\u001b[0m                                                                                         \u001b[31m│\u001b[0m\n",
       "\u001b[31m│\u001b[0m                                                                                                                 \u001b[31m│\u001b[0m\n",
       "\u001b[31m│\u001b[0m \u001b[31m❱ \u001b[0m 8 \u001b[2m│   \u001b[0m\u001b[96mprint\u001b[0m(\u001b[1;4mexecution.outputs\u001b[0m)                                                                               \u001b[31m│\u001b[0m\n",
       "\u001b[31m│\u001b[0m                                                                                                                 \u001b[31m│\u001b[0m\n",
       "\u001b[31m│\u001b[0m \u001b[2;33m/Users/sageelliott/.pyenv/versions/weav-rag/lib/python3.11/site-packages/flytekit/remote/\u001b[0m\u001b[1;33mexecutions.py\u001b[0m:\u001b[94m154\u001b[0m in   \u001b[31m│\u001b[0m\n",
       "\u001b[31m│\u001b[0m \u001b[92moutputs\u001b[0m                                                                                                         \u001b[31m│\u001b[0m\n",
       "\u001b[31m│\u001b[0m                                                                                                                 \u001b[31m│\u001b[0m\n",
       "\u001b[31m│\u001b[0m \u001b[31m❱ \u001b[0m154 \u001b[2m│   │   \u001b[0moutputs = \u001b[1;4;96msuper\u001b[0m\u001b[1;4m().outputs\u001b[0m                                                                         \u001b[31m│\u001b[0m\n",
       "\u001b[31m│\u001b[0m                                                                                                                 \u001b[31m│\u001b[0m\n",
       "\u001b[31m│\u001b[0m \u001b[2;33m/Users/sageelliott/.pyenv/versions/weav-rag/lib/python3.11/site-packages/flytekit/remote/\u001b[0m\u001b[1;33mexecutions.py\u001b[0m:\u001b[94m47\u001b[0m in    \u001b[31m│\u001b[0m\n",
       "\u001b[31m│\u001b[0m \u001b[92moutputs\u001b[0m                                                                                                         \u001b[31m│\u001b[0m\n",
       "\u001b[31m│\u001b[0m                                                                                                                 \u001b[31m│\u001b[0m\n",
       "\u001b[31m│\u001b[0m \u001b[31m❱ \u001b[0m 47 \u001b[2m│   │   │   \u001b[0m\u001b[94mraise\u001b[0m user_exceptions.FlyteAssertion(                                                         \u001b[31m│\u001b[0m\n",
       "\u001b[31m╰─────────────────────────────────────────────────────────────────────────────────────────────────────────────────╯\u001b[0m\n",
       "\u001b[1;91mFlyteAssertion: \u001b[0mUSER:AssertionError: \u001b[33merror\u001b[0m=\u001b[35mOutputs\u001b[0m could not be found because the execution ended in failure. Error\n",
       "message: Trace:\n",
       "\n",
       "    Traceback \u001b[1m(\u001b[0mmost recent call last\u001b[1m)\u001b[0m:\n",
       "      File \u001b[32m\"/opt/micromamba/envs/runtime/lib/python3.11/site-packages/union/actor/_actor.py\"\u001b[0m, line \u001b[1;36m49\u001b[0m, in \n",
       "inner_func\n",
       "        return _ACTOR_STATE_CACHE\u001b[1m[\u001b[0mkey\u001b[1m]\u001b[0m\n",
       "               ~~~~~~~~~~~~~~~~~~^^^^^\n",
       "    KeyError: \u001b[1m[\u001b[0m\u001b[32m'/root/11821724098795043749'\u001b[0m, \u001b[32m'load_model'\u001b[0m, \u001b[32m'tasks.hf_model'\u001b[0m, \u001b[32m'microsoft/Phi-3-mini-128k-instruct'\u001b[0m, \n",
       "\u001b[32m'union:///ci/sagecodes/development/default/a4mcn4lpxvcqsntbbtwz-n0-0/8e2ae3278c3c81091d2b08ab774c183a'\u001b[0m\u001b[1m]\u001b[0m\n",
       "\n",
       "    During handling of the above exception, another exception occurred:\n",
       "\n",
       "    Traceback \u001b[1m(\u001b[0mmost recent call last\u001b[1m)\u001b[0m:\n",
       "      File \u001b[32m\"/opt/micromamba/envs/runtime/lib/python3.11/site-packages/flytekit/core/base_task.py\"\u001b[0m, line \u001b[1;36m754\u001b[0m, in \n",
       "dispatch_execute\n",
       "        native_outputs = \u001b[1;35mself.execute\u001b[0m\u001b[1m(\u001b[0m**native_inputs\u001b[1m)\u001b[0m\n",
       "                         ^^^^^^^^^^^^^^^^^^^^^^^^^^^^^\n",
       "      File \u001b[32m\"/opt/micromamba/envs/runtime/lib/python3.11/site-packages/flytekit/core/python_function_task.py\"\u001b[0m, line \n",
       "\u001b[1;36m204\u001b[0m, in execute\n",
       "        return \u001b[1;35mself._task_function\u001b[0m\u001b[1m(\u001b[0m**kwargs\u001b[1m)\u001b[0m\n",
       "               ^^^^^^^^^^^^^^^^^^^^^^^^^^^^^\n",
       "      File \u001b[32m\"/root/11821724098795043749/tasks/hf_model.py\"\u001b[0m, line \u001b[1;36m70\u001b[0m, in inference\n",
       "        text_gen_pipeline = \u001b[1;35mload_model\u001b[0m\u001b[1m(\u001b[0mmodel_name, model_cache_path\u001b[1m)\u001b[0m\n",
       "                            ^^^^^^^^^^^^^^^^^^^^^^^^^^^^^^^^^^^^^^^^\n",
       "      File \u001b[32m\"/opt/micromamba/envs/runtime/lib/python3.11/site-packages/union/actor/_actor.py\"\u001b[0m, line \u001b[1;36m51\u001b[0m, in \n",
       "inner_func\n",
       "        _ACTOR_STATE_CACHE\u001b[1m[\u001b[0mkey\u001b[1m]\u001b[0m = \u001b[1;35mf\u001b[0m\u001b[1m(\u001b[0m*args, **kwargs\u001b[1m)\u001b[0m\n",
       "                                  ^^^^^^^^^^^^^^^^^^\n",
       "      File \u001b[32m\"/root/11821724098795043749/tasks/hf_model.py\"\u001b[0m, line \u001b[1;36m50\u001b[0m, in load_model\n",
       "        model = \u001b[1;35mAutoModelForCausalLM.from_pretrained\u001b[0m\u001b[1m(\u001b[0m\n",
       "                ^^^^^^^^^^^^^^^^^^^^^^^^^^^^^^^^^^^^^\n",
       "      File \u001b[32m\"/opt/micromamba/envs/runtime/lib/python3.11/site-packages/transformers/models/auto/auto_factory.py\"\u001b[0m, \n",
       "line \u001b[1;36m559\u001b[0m, in from_pretrained\n",
       "        return \u001b[1;35mmodel_class.from_pretrained\u001b[0m\u001b[1m(\u001b[0m\n",
       "               ^^^^^^^^^^^^^^^^^^^^^^^^^^^^\n",
       "      File \u001b[32m\"/opt/micromamba/envs/runtime/lib/python3.11/site-packages/transformers/modeling_utils.py\"\u001b[0m, line \u001b[1;36m4224\u001b[0m, \n",
       "in from_pretrained\n",
       "        \u001b[1m)\u001b[0m = \u001b[1;35mcls._load_pretrained_model\u001b[0m\u001b[1m(\u001b[0m\n",
       "            ^^^^^^^^^^^^^^^^^^^^^^^^^^^\n",
       "      File \u001b[32m\"/opt/micromamba/envs/runtime/lib/python3.11/site-packages/transformers/modeling_utils.py\"\u001b[0m, line \u001b[1;36m4770\u001b[0m, \n",
       "in _load_pretrained_model\n",
       "        state_dict = \u001b[1;35mload_state_dict\u001b[0m\u001b[1m(\u001b[0m\n",
       "                     ^^^^^^^^^^^^^^^^\n",
       "      File \u001b[32m\"/opt/micromamba/envs/runtime/lib/python3.11/site-packages/transformers/modeling_utils.py\"\u001b[0m, line \u001b[1;36m504\u001b[0m, in\n",
       "load_state_dict\n",
       "        with \u001b[1;35msafe_open\u001b[0m\u001b[1m(\u001b[0mcheckpoint_file, \u001b[33mframework\u001b[0m=\u001b[32m\"pt\"\u001b[0m\u001b[1m)\u001b[0m as f:\n",
       "             ^^^^^^^^^^^^^^^^^^^^^^^^^^^^^^^^^^^^^^^^^^\n",
       "    safetensors_rust.SafetensorError: Error while deserializing header: HeaderTooLarge\n",
       "\n",
       "Message:\n",
       "\n",
       "    SafetensorError: Error while deserializing header: HeaderTooLarge\n"
      ]
     },
     "metadata": {},
     "output_type": "display_data"
    }
   ],
   "source": [
    "print(predict_with_actor(\"What is a bee?\"))"
   ]
  },
  {
   "cell_type": "code",
   "execution_count": 38,
   "metadata": {},
   "outputs": [
    {
     "name": "stdout",
     "output_type": "stream",
     "text": [
      " A fly is a small, winged insect belonging to the order Diptera. They are characterized by their two wings, compound eyes, and a pair of antennae. Flies are found in almost every habitat on Earth and are known for their ability to fly quickly and maneuver in tight spaces. They play important roles in ecosystems as pollinators and as a food source for other animals. However, some species of flies can also be pests, as they can spread diseases and contaminate food.\n"
     ]
    }
   ],
   "source": [
    "print(predict_with_actor(\"What is a fly?\"))"
   ]
  },
  {
   "cell_type": "code",
   "execution_count": 39,
   "metadata": {},
   "outputs": [
    {
     "name": "stdout",
     "output_type": "stream",
     "text": [
      " An ant is a small, social insect that belongs to the family Formicidae. They are known for their complex social structure and ability to work together to build intricate nests and forage for food. Ants have six legs, a segmented body, and antennae. They are found in almost every habitat on Earth, from rainforests to deserts. Ants are omnivores and feed on a variety of foods, including seeds, nectar, and other insects. They are also known for their ability to carry objects that are many times their own body weight.\n"
     ]
    }
   ],
   "source": [
    "print(predict_with_actor(\"What is a ant?\"))"
   ]
  },
  {
   "cell_type": "code",
   "execution_count": 40,
   "metadata": {},
   "outputs": [
    {
     "name": "stdout",
     "output_type": "stream",
     "text": [
      " A mantis is a type of insect that belongs to the order Mantodea. They are known for their unique appearance, with elongated bodies, large compound eyes, and raptorial forelegs that they use to catch prey. Mantises are carnivorous and primarily feed on insects, but some larger species may also eat small vertebrates. They are found in various habitats around the world, including forests, grasslands, and even urban areas. Mantises are also known for their mating behavior, where the male will often mount the female and hold her still with his forelegs while mating.\n"
     ]
    }
   ],
   "source": [
    "print(predict_with_actor(\"What is a mantis?\"))"
   ]
  },
  {
   "cell_type": "markdown",
   "metadata": {},
   "source": [
    "If you want to host the gradio app on Hugging Face Spaces you can create union API key:\n"
   ]
  },
  {
   "cell_type": "code",
   "execution_count": null,
   "metadata": {},
   "outputs": [],
   "source": [
    "!union create api-key admin --name gradio-hf-app"
   ]
  }
 ],
 "metadata": {
  "kernelspec": {
   "display_name": "weav-rag",
   "language": "python",
   "name": "python3"
  },
  "language_info": {
   "codemirror_mode": {
    "name": "ipython",
    "version": 3
   },
   "file_extension": ".py",
   "mimetype": "text/x-python",
   "name": "python",
   "nbconvert_exporter": "python",
   "pygments_lexer": "ipython3",
   "version": "3.11.9"
  }
 },
 "nbformat": 4,
 "nbformat_minor": 2
}
