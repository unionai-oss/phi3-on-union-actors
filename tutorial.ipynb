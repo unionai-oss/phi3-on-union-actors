{
 "cells": [
  {
   "cell_type": "markdown",
   "metadata": {},
   "source": [
    "### This guide will show how to host a hugging face LLM in Union serverless actors environment. \n",
    "\n",
    "<a target=\"_blank\" href=\"https://colab.research.google.com/github/unionai-oss/phi3-on-union-actors/blob/main/tutorial.ipynb\">\n",
    "  <img src=\"https://colab.research.google.com/assets/colab-badge.svg\" alt=\"Open In Colab\"/>\n",
    "</a>\n",
    "\n",
    "Sign up for Union serveless (free):\n",
    "https://www.union.ai/\n",
    "\n",
    "It can take upto 5 minutes to get your on boarded email. If you do not get approved reach out on the Flyte community Slack. \n",
    "\n",
    "Once you get your confirmation email you should be able to verify access at visiting serverless.union.ai\n",
    "\n",
    "See the full repo here: https://github.com/unionai-oss/phi3-on-union-actors"
   ]
  },
  {
   "cell_type": "code",
   "execution_count": null,
   "metadata": {},
   "outputs": [],
   "source": [
    "\n",
    "# install the requirements if you haven't already\n",
    "try:\n",
    "    import google.colab\n",
    "    IN_COLAB = True\n",
    "except ImportError:\n",
    "    IN_COLAB = False\n",
    "\n",
    "if IN_COLAB:\n",
    "    !git clone https://github.com/unionai-oss/phi3-on-union-actors\n",
    "    %cd phi3-on-union-actors\n",
    "    !pip install -r requirements.txt"
   ]
  },
  {
   "cell_type": "markdown",
   "metadata": {},
   "source": [
    "Autheticate this device with your Union account."
   ]
  },
  {
   "cell_type": "code",
   "execution_count": 45,
   "metadata": {},
   "outputs": [
    {
     "name": "stdout",
     "output_type": "stream",
     "text": [
      "Login successful into serverless\n",
      "WARNING: All log messages before absl::InitializeLog() is called are written to STDERR\n",
      "E0000 00:00:1737684853.509548 28073574 init.cc:232] grpc_wait_for_shutdown_with_timeout() timed out.\n"
     ]
    }
   ],
   "source": [
    "!union create login --serverless --auth device-flow"
   ]
  },
  {
   "cell_type": "markdown",
   "metadata": {},
   "source": [
    "Lets run a workflow that uses the phi3 instruct LLM model from Hugging Face to generate text.\n",
    "\n",
    "See the code we're running in [asks/phi3.py](tasks/phi3.py) and the workflow in [workflows/phi3_workflow.py](workflows/phi3_response_wf.py)\n",
    "\n",
    "If first time runninng this workflow the container image will have to build which may take a few mins. And the first time an actor workflow is run it will spin up a container taking a few minutes as well. Once it's up you'll be able to call it until time-to-life occurs.\n",
    "\n",
    "When workflow is running you'll get a generated link to view it's progress in the Union UI.\n",
    "\n"
   ]
  },
  {
   "cell_type": "code",
   "execution_count": null,
   "metadata": {},
   "outputs": [],
   "source": [
    "!union register workflows/model_infernce.py "
   ]
  },
  {
   "cell_type": "markdown",
   "metadata": {},
   "source": [
    "Lets call our LLM model to generate text with the Union remote API. \n",
    "\n",
    "This allows us to run the workflow from other applications or scripts.\n"
   ]
  },
  {
   "cell_type": "code",
   "execution_count": 46,
   "metadata": {},
   "outputs": [
    {
     "data": {
      "text/html": [
       "<pre style=\"white-space:pre;overflow-x:auto;line-height:normal;font-family:Menlo,'DejaVu Sans Mono',consolas,'Courier New',monospace\"><span style=\"color: #7fbfbf; text-decoration-color: #7fbfbf\">18:14:20.181248 </span><span style=\"color: #808000; text-decoration-color: #808000\">WARNING </span> remote.py:<span style=\"color: #008080; text-decoration-color: #008080; font-weight: bold\">286</span> - Jupyter notebook and interactive task  \n",
       "<span style=\"color: #7fbfbf; text-decoration-color: #7fbfbf\">                </span>         support is still alpha.                                \n",
       "</pre>\n"
      ],
      "text/plain": [
       "\u001b[2;36m18:14:20.181248\u001b[0m\u001b[2;36m \u001b[0m\u001b[33mWARNING \u001b[0m remote.py:\u001b[1;36m286\u001b[0m - Jupyter notebook and interactive task  \n",
       "\u001b[2;36m                \u001b[0m         support is still alpha.                                \n"
      ]
     },
     "metadata": {},
     "output_type": "display_data"
    }
   ],
   "source": [
    "from union.remote import UnionRemote\n",
    "# Create a remote connection\n",
    "remote = UnionRemote()"
   ]
  },
  {
   "cell_type": "code",
   "execution_count": 47,
   "metadata": {},
   "outputs": [],
   "source": [
    "def predict_with_actor(query):\n",
    "\n",
    "    inputs = {\"query\": query,}\n",
    "\n",
    "    workflow = remote.fetch_workflow(name=\"workflows.model_infernce.wf_text_gen\")\n",
    "    execution = remote.execute(workflow, inputs=inputs, wait=True) # wait=True will block until the execution is complete\n",
    "\n",
    "    # print(execution.outputs)\n",
    "\n",
    "    return execution.outputs['o0']"
   ]
  },
  {
   "cell_type": "markdown",
   "metadata": {},
   "source": [
    "If you're calling this after the initial TTL expored on your container you'll have to wait for the container to spin up again. You can adjust the TTL for `ActorEnvironment` in the container file [containers.py](containers.py)"
   ]
  },
  {
   "cell_type": "code",
   "execution_count": 63,
   "metadata": {},
   "outputs": [
    {
     "name": "stdout",
     "output_type": "stream",
     "text": [
      " A bee is a flying insect that is known for its role in pollination. Bees are a part of the Hymenoptera order and are classified under the family Apidae. They are characterized by their hairy bodies, two pairs of wings, and a stinger. Bees are social insects and live in colonies, with a queen bee, worker bees, and drones. They are known for producing honey and beeswax. Bees play a crucial role in the ecosystem by pollinating flowers, which helps in the reproduction of plants. They are also important for agriculture as they help in the production of fruits, vegetables, and nuts.\n"
     ]
    }
   ],
   "source": [
    "print(predict_with_actor(\"What is a bee?\"))"
   ]
  },
  {
   "cell_type": "code",
   "execution_count": 64,
   "metadata": {},
   "outputs": [
    {
     "name": "stdout",
     "output_type": "stream",
     "text": [
      " A fly is a small, winged insect belonging to the order Diptera. They are characterized by their two wings, compound eyes, and a pair of antennae. Flies are found in almost every habitat on Earth and are known for their ability to fly quickly and maneuver in tight spaces. They play important roles in ecosystems as pollinators and as a food source for other animals. However, some species of flies can also be pests, as they can spread diseases and contaminate food.\n"
     ]
    }
   ],
   "source": [
    "print(predict_with_actor(\"What is a fly?\"))"
   ]
  },
  {
   "cell_type": "code",
   "execution_count": 65,
   "metadata": {},
   "outputs": [
    {
     "name": "stdout",
     "output_type": "stream",
     "text": [
      " An ant is a small, social insect that belongs to the family Formicidae. They are known for their complex social structure and ability to work together to build intricate nests and forage for food. Ants have six legs, a segmented body, and antennae. They are found in almost every habitat on Earth, from rainforests to deserts. Ants are omnivores and feed on a variety of foods, including seeds, nectar, and other insects. They are also known for their ability to carry objects that are many times their own body weight.\n"
     ]
    }
   ],
   "source": [
    "print(predict_with_actor(\"What is a ant?\"))"
   ]
  },
  {
   "cell_type": "code",
   "execution_count": 66,
   "metadata": {},
   "outputs": [
    {
     "name": "stdout",
     "output_type": "stream",
     "text": [
      " A mantis is a type of insect that belongs to the order Mantodea. They are known for their unique appearance, with elongated bodies, large compound eyes, and raptorial forelegs that they use to catch prey. Mantises are carnivorous and primarily feed on insects, but some larger species may also eat small vertebrates. They are found in various habitats around the world, including forests, grasslands, and even urban areas. Mantises are also known for their mating behavior, where the male will often mount the female and hold her still with his forelegs while mating.\n"
     ]
    }
   ],
   "source": [
    "print(predict_with_actor(\"What is a mantis?\"))"
   ]
  },
  {
   "cell_type": "markdown",
   "metadata": {},
   "source": [
    "If you want to host the gradio app on Hugging Face Spaces you can create union API key:\n"
   ]
  },
  {
   "cell_type": "code",
   "execution_count": null,
   "metadata": {},
   "outputs": [],
   "source": [
    "!union create api-key admin --name gradio-hf-app"
   ]
  }
 ],
 "metadata": {
  "kernelspec": {
   "display_name": "weav-rag",
   "language": "python",
   "name": "python3"
  },
  "language_info": {
   "codemirror_mode": {
    "name": "ipython",
    "version": 3
   },
   "file_extension": ".py",
   "mimetype": "text/x-python",
   "name": "python",
   "nbconvert_exporter": "python",
   "pygments_lexer": "ipython3",
   "version": "3.11.9"
  }
 },
 "nbformat": 4,
 "nbformat_minor": 2
}
